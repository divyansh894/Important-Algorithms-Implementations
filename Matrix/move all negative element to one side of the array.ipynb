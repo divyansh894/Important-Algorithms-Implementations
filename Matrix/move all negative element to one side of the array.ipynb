{
 "cells": [
  {
   "cell_type": "code",
   "execution_count": 1,
   "metadata": {},
   "outputs": [
    {
     "name": "stdout",
     "output_type": "stream",
     "text": [
      "[-12, -6, -13, -5, -3, -7, 5, 6, 11]\n"
     ]
    }
   ],
   "source": [
    "arr=[-12, 11, -13, -5, 6, -7, 5, -3, -6]\n",
    "np=0\n",
    "pp=len(arr)-1\n",
    "while np<=pp:\n",
    "    if arr[np]<0:\n",
    "        np+=1\n",
    "    elif arr[pp]>0:\n",
    "        pp-=1\n",
    "    else:\n",
    "        arr[np],arr[pp]=arr[pp],arr[np]\n",
    "        np+=1\n",
    "        pp-=1\n",
    "print(arr)"
   ]
  },
  {
   "cell_type": "code",
   "execution_count": null,
   "metadata": {},
   "outputs": [],
   "source": []
  }
 ],
 "metadata": {
  "kernelspec": {
   "display_name": "Python 3",
   "language": "python",
   "name": "python3"
  },
  "language_info": {
   "codemirror_mode": {
    "name": "ipython",
    "version": 3
   },
   "file_extension": ".py",
   "mimetype": "text/x-python",
   "name": "python",
   "nbconvert_exporter": "python",
   "pygments_lexer": "ipython3",
   "version": "3.8.6"
  }
 },
 "nbformat": 4,
 "nbformat_minor": 4
}
