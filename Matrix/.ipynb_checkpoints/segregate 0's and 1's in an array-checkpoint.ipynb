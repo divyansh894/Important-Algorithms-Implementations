{
 "cells": [
  {
   "cell_type": "code",
   "execution_count": 6,
   "metadata": {},
   "outputs": [
    {
     "name": "stdout",
     "output_type": "stream",
     "text": [
      "[0, 0, 0, 0, 0, 0, 1, 1, 1, 1, 1, 1]\n"
     ]
    }
   ],
   "source": [
    "arr=[0, 1, 1, 0, 1, 0, 1, 0, 1, 0, 0, 1]\n",
    "low=0\n",
    "hi=len(arr)-1\n",
    "while low<hi:\n",
    "    if arr[low]==0 and low<hi:\n",
    "        low+=1\n",
    "    elif arr[hi]==1 and low<hi:\n",
    "        hi-=1\n",
    "    else:\n",
    "        arr[low],arr[hi]=arr[hi],arr[low]\n",
    "        low+=1\n",
    "        hi-=1\n",
    "print(arr)"
   ]
  },
  {
   "cell_type": "code",
   "execution_count": null,
   "metadata": {},
   "outputs": [],
   "source": []
  }
 ],
 "metadata": {
  "kernelspec": {
   "display_name": "Python 3",
   "language": "python",
   "name": "python3"
  },
  "language_info": {
   "codemirror_mode": {
    "name": "ipython",
    "version": 3
   },
   "file_extension": ".py",
   "mimetype": "text/x-python",
   "name": "python",
   "nbconvert_exporter": "python",
   "pygments_lexer": "ipython3",
   "version": "3.8.6"
  }
 },
 "nbformat": 4,
 "nbformat_minor": 4
}
